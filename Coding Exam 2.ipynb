{
 "cells": [
  {
   "cell_type": "markdown",
   "metadata": {},
   "source": [
    "- Adult Census Data<br>\n",
    "- Goal : To predict whether the income of person exceeds 50k USD per year or not. <br>\n",
    "- 15 Columns (9 categorical data) 3488 rows <br>\n",
    "- majority : miniority class = 7 : 3 <br>\n",
    "- missing data : about 13% <br>\n",
    "- Evaluation Metric: ROC - AUC\n",
    "- Reason for choosing ROC-AUC as evaluation metric : Since the data is census, both the classes( income group above 50k USD and less than 50K USD is important for economy) are important to be evaluated so I chose ROC- AUC as my evaltuation metric"
   ]
  },
  {
   "cell_type": "markdown",
   "metadata": {},
   "source": [
    "- Best Model : XGBoost Model\n",
    "- Best Model Parameters : XGBClassifier(random_state=42,early_stopping_rounds=2,objective= 'binary:logistic')\n",
    "- Best Model mean cross validation score: 0.96\n",
    "- Best Model Train score: 0.99\n",
    "- Best Model Test Score : 0.95"
   ]
  },
  {
   "cell_type": "code",
   "execution_count": 134,
   "metadata": {},
   "outputs": [],
   "source": [
    "import numpy as np\n",
    "import matplotlib.pyplot as plt\n",
    "import pandas as pd\n",
    "import seaborn as sns\n",
    "%matplotlib inline"
   ]
  },
  {
   "cell_type": "code",
   "execution_count": null,
   "metadata": {},
   "outputs": [],
   "source": [
    "#This is census data. The task here is to predict whether income of person exceeds 50000$/yr or not."
   ]
  },
  {
   "cell_type": "markdown",
   "metadata": {},
   "source": [
    "### Importing and Exploring Data"
   ]
  },
  {
   "cell_type": "code",
   "execution_count": 135,
   "metadata": {},
   "outputs": [
    {
     "data": {
      "text/html": [
       "<div>\n",
       "<style scoped>\n",
       "    .dataframe tbody tr th:only-of-type {\n",
       "        vertical-align: middle;\n",
       "    }\n",
       "\n",
       "    .dataframe tbody tr th {\n",
       "        vertical-align: top;\n",
       "    }\n",
       "\n",
       "    .dataframe thead th {\n",
       "        text-align: right;\n",
       "    }\n",
       "</style>\n",
       "<table border=\"1\" class=\"dataframe\">\n",
       "  <thead>\n",
       "    <tr style=\"text-align: right;\">\n",
       "      <th></th>\n",
       "      <th>age</th>\n",
       "      <th>workclass</th>\n",
       "      <th>fnlwgt</th>\n",
       "      <th>education</th>\n",
       "      <th>education.num</th>\n",
       "      <th>marital.status</th>\n",
       "      <th>occupation</th>\n",
       "      <th>relationship</th>\n",
       "      <th>race</th>\n",
       "      <th>sex</th>\n",
       "      <th>capital.gain</th>\n",
       "      <th>capital.loss</th>\n",
       "      <th>hours.per.week</th>\n",
       "      <th>native.country</th>\n",
       "      <th>income</th>\n",
       "    </tr>\n",
       "  </thead>\n",
       "  <tbody>\n",
       "    <tr>\n",
       "      <th>0</th>\n",
       "      <td>90</td>\n",
       "      <td>NaN</td>\n",
       "      <td>77053.0</td>\n",
       "      <td>HS-grad</td>\n",
       "      <td>9</td>\n",
       "      <td>Widowed</td>\n",
       "      <td>NaN</td>\n",
       "      <td>Not-in-family</td>\n",
       "      <td>White</td>\n",
       "      <td>Female</td>\n",
       "      <td>0</td>\n",
       "      <td>4356</td>\n",
       "      <td>40</td>\n",
       "      <td>United-States</td>\n",
       "      <td>&lt;=50k</td>\n",
       "    </tr>\n",
       "    <tr>\n",
       "      <th>1</th>\n",
       "      <td>82</td>\n",
       "      <td>Private</td>\n",
       "      <td>132870.0</td>\n",
       "      <td>HS-grad</td>\n",
       "      <td>9</td>\n",
       "      <td>Widowed</td>\n",
       "      <td>Exec-managerial</td>\n",
       "      <td>Not-in-family</td>\n",
       "      <td>White</td>\n",
       "      <td>Female</td>\n",
       "      <td>0</td>\n",
       "      <td>4356</td>\n",
       "      <td>18</td>\n",
       "      <td>United-States</td>\n",
       "      <td>&lt;=50k</td>\n",
       "    </tr>\n",
       "    <tr>\n",
       "      <th>2</th>\n",
       "      <td>66</td>\n",
       "      <td>NaN</td>\n",
       "      <td>186061.0</td>\n",
       "      <td>Some-college</td>\n",
       "      <td>10</td>\n",
       "      <td>Widowed</td>\n",
       "      <td>NaN</td>\n",
       "      <td>Unmarried</td>\n",
       "      <td>Black</td>\n",
       "      <td>Female</td>\n",
       "      <td>0</td>\n",
       "      <td>4356</td>\n",
       "      <td>40</td>\n",
       "      <td>United-States</td>\n",
       "      <td>&lt;=50k</td>\n",
       "    </tr>\n",
       "    <tr>\n",
       "      <th>3</th>\n",
       "      <td>54</td>\n",
       "      <td>Private</td>\n",
       "      <td>140359.0</td>\n",
       "      <td>7th-8th</td>\n",
       "      <td>4</td>\n",
       "      <td>Divorced</td>\n",
       "      <td>Machine-op-inspct</td>\n",
       "      <td>Unmarried</td>\n",
       "      <td>White</td>\n",
       "      <td>Female</td>\n",
       "      <td>0</td>\n",
       "      <td>3900</td>\n",
       "      <td>40</td>\n",
       "      <td>United-States</td>\n",
       "      <td>&lt;=50k</td>\n",
       "    </tr>\n",
       "    <tr>\n",
       "      <th>4</th>\n",
       "      <td>41</td>\n",
       "      <td>Private</td>\n",
       "      <td>264663.0</td>\n",
       "      <td>Some-college</td>\n",
       "      <td>10</td>\n",
       "      <td>Separated</td>\n",
       "      <td>Prof-specialty</td>\n",
       "      <td>Own-child</td>\n",
       "      <td>White</td>\n",
       "      <td>Female</td>\n",
       "      <td>0</td>\n",
       "      <td>3900</td>\n",
       "      <td>40</td>\n",
       "      <td>United-States</td>\n",
       "      <td>&lt;=50k</td>\n",
       "    </tr>\n",
       "  </tbody>\n",
       "</table>\n",
       "</div>"
      ],
      "text/plain": [
       "   age workclass    fnlwgt     education  education.num marital.status  \\\n",
       "0   90       NaN   77053.0       HS-grad              9        Widowed   \n",
       "1   82   Private  132870.0       HS-grad              9        Widowed   \n",
       "2   66       NaN  186061.0  Some-college             10        Widowed   \n",
       "3   54   Private  140359.0       7th-8th              4       Divorced   \n",
       "4   41   Private  264663.0  Some-college             10      Separated   \n",
       "\n",
       "          occupation   relationship   race     sex  capital.gain  \\\n",
       "0                NaN  Not-in-family  White  Female             0   \n",
       "1    Exec-managerial  Not-in-family  White  Female             0   \n",
       "2                NaN      Unmarried  Black  Female             0   \n",
       "3  Machine-op-inspct      Unmarried  White  Female             0   \n",
       "4     Prof-specialty      Own-child  White  Female             0   \n",
       "\n",
       "   capital.loss  hours.per.week native.country income  \n",
       "0          4356              40  United-States  <=50k  \n",
       "1          4356              18  United-States  <=50k  \n",
       "2          4356              40  United-States  <=50k  \n",
       "3          3900              40  United-States  <=50k  \n",
       "4          3900              40  United-States  <=50k  "
      ]
     },
     "execution_count": 135,
     "metadata": {},
     "output_type": "execute_result"
    }
   ],
   "source": [
    "data = pd.read_csv(r'C:\\Users\\katar\\Desktop\\Spring 2020 RAJ\\ML\\adult-census-income\\Income.csv',encoding='unicode_escape')\n",
    "\n",
    "data.head()"
   ]
  },
  {
   "cell_type": "code",
   "execution_count": 136,
   "metadata": {},
   "outputs": [
    {
     "data": {
      "text/plain": [
       ">50k     2360\n",
       "<=50k    1127\n",
       "Name: income, dtype: int64"
      ]
     },
     "execution_count": 136,
     "metadata": {},
     "output_type": "execute_result"
    }
   ],
   "source": [
    "data['income'].value_counts()"
   ]
  },
  {
   "cell_type": "code",
   "execution_count": 137,
   "metadata": {},
   "outputs": [
    {
     "data": {
      "text/html": [
       "<div>\n",
       "<style scoped>\n",
       "    .dataframe tbody tr th:only-of-type {\n",
       "        vertical-align: middle;\n",
       "    }\n",
       "\n",
       "    .dataframe tbody tr th {\n",
       "        vertical-align: top;\n",
       "    }\n",
       "\n",
       "    .dataframe thead th {\n",
       "        text-align: right;\n",
       "    }\n",
       "</style>\n",
       "<table border=\"1\" class=\"dataframe\">\n",
       "  <thead>\n",
       "    <tr style=\"text-align: right;\">\n",
       "      <th></th>\n",
       "      <th>age</th>\n",
       "      <th>fnlwgt</th>\n",
       "      <th>education.num</th>\n",
       "      <th>capital.gain</th>\n",
       "      <th>capital.loss</th>\n",
       "      <th>hours.per.week</th>\n",
       "    </tr>\n",
       "  </thead>\n",
       "  <tbody>\n",
       "    <tr>\n",
       "      <th>count</th>\n",
       "      <td>3487.000000</td>\n",
       "      <td>3.485000e+03</td>\n",
       "      <td>3487.000000</td>\n",
       "      <td>3487.000000</td>\n",
       "      <td>3487.00000</td>\n",
       "      <td>3487.000000</td>\n",
       "    </tr>\n",
       "    <tr>\n",
       "      <th>mean</th>\n",
       "      <td>43.357327</td>\n",
       "      <td>1.873078e+05</td>\n",
       "      <td>11.328076</td>\n",
       "      <td>9531.845426</td>\n",
       "      <td>815.22799</td>\n",
       "      <td>44.301405</td>\n",
       "    </tr>\n",
       "    <tr>\n",
       "      <th>std</th>\n",
       "      <td>12.248020</td>\n",
       "      <td>1.008508e+05</td>\n",
       "      <td>2.611302</td>\n",
       "      <td>20686.540806</td>\n",
       "      <td>960.75055</td>\n",
       "      <td>11.775465</td>\n",
       "    </tr>\n",
       "    <tr>\n",
       "      <th>min</th>\n",
       "      <td>17.000000</td>\n",
       "      <td>1.930200e+04</td>\n",
       "      <td>1.000000</td>\n",
       "      <td>0.000000</td>\n",
       "      <td>0.00000</td>\n",
       "      <td>1.000000</td>\n",
       "    </tr>\n",
       "    <tr>\n",
       "      <th>25%</th>\n",
       "      <td>35.000000</td>\n",
       "      <td>1.191010e+05</td>\n",
       "      <td>9.000000</td>\n",
       "      <td>0.000000</td>\n",
       "      <td>0.00000</td>\n",
       "      <td>40.000000</td>\n",
       "    </tr>\n",
       "    <tr>\n",
       "      <th>50%</th>\n",
       "      <td>42.000000</td>\n",
       "      <td>1.756970e+05</td>\n",
       "      <td>11.000000</td>\n",
       "      <td>4508.000000</td>\n",
       "      <td>0.00000</td>\n",
       "      <td>40.000000</td>\n",
       "    </tr>\n",
       "    <tr>\n",
       "      <th>75%</th>\n",
       "      <td>51.000000</td>\n",
       "      <td>2.313770e+05</td>\n",
       "      <td>13.000000</td>\n",
       "      <td>7688.000000</td>\n",
       "      <td>1887.00000</td>\n",
       "      <td>50.000000</td>\n",
       "    </tr>\n",
       "    <tr>\n",
       "      <th>max</th>\n",
       "      <td>90.000000</td>\n",
       "      <td>1.033222e+06</td>\n",
       "      <td>16.000000</td>\n",
       "      <td>99999.000000</td>\n",
       "      <td>4356.00000</td>\n",
       "      <td>99.000000</td>\n",
       "    </tr>\n",
       "  </tbody>\n",
       "</table>\n",
       "</div>"
      ],
      "text/plain": [
       "               age        fnlwgt  education.num  capital.gain  capital.loss  \\\n",
       "count  3487.000000  3.485000e+03    3487.000000   3487.000000    3487.00000   \n",
       "mean     43.357327  1.873078e+05      11.328076   9531.845426     815.22799   \n",
       "std      12.248020  1.008508e+05       2.611302  20686.540806     960.75055   \n",
       "min      17.000000  1.930200e+04       1.000000      0.000000       0.00000   \n",
       "25%      35.000000  1.191010e+05       9.000000      0.000000       0.00000   \n",
       "50%      42.000000  1.756970e+05      11.000000   4508.000000       0.00000   \n",
       "75%      51.000000  2.313770e+05      13.000000   7688.000000    1887.00000   \n",
       "max      90.000000  1.033222e+06      16.000000  99999.000000    4356.00000   \n",
       "\n",
       "       hours.per.week  \n",
       "count     3487.000000  \n",
       "mean        44.301405  \n",
       "std         11.775465  \n",
       "min          1.000000  \n",
       "25%         40.000000  \n",
       "50%         40.000000  \n",
       "75%         50.000000  \n",
       "max         99.000000  "
      ]
     },
     "execution_count": 137,
     "metadata": {},
     "output_type": "execute_result"
    }
   ],
   "source": [
    "data.describe()"
   ]
  },
  {
   "cell_type": "code",
   "execution_count": 138,
   "metadata": {},
   "outputs": [
    {
     "name": "stdout",
     "output_type": "stream",
     "text": [
      "<class 'pandas.core.frame.DataFrame'>\n",
      "RangeIndex: 3487 entries, 0 to 3486\n",
      "Data columns (total 15 columns):\n",
      "age               3487 non-null int64\n",
      "workclass         3367 non-null object\n",
      "fnlwgt            3485 non-null float64\n",
      "education         3436 non-null object\n",
      "education.num     3487 non-null int64\n",
      "marital.status    3455 non-null object\n",
      "occupation        3345 non-null object\n",
      "relationship      3470 non-null object\n",
      "race              3479 non-null object\n",
      "sex               3467 non-null object\n",
      "capital.gain      3487 non-null int64\n",
      "capital.loss      3487 non-null int64\n",
      "hours.per.week    3487 non-null int64\n",
      "native.country    3398 non-null object\n",
      "income            3487 non-null object\n",
      "dtypes: float64(1), int64(5), object(9)\n",
      "memory usage: 408.8+ KB\n"
     ]
    }
   ],
   "source": [
    "data.info()"
   ]
  },
  {
   "cell_type": "code",
   "execution_count": 139,
   "metadata": {},
   "outputs": [
    {
     "name": "stdout",
     "output_type": "stream",
     "text": [
      "age [90 82 66 54 41 34 38 74 68 45 52 32 51 46 57 22 37 29 61 21] \n",
      "\n",
      "workclass [nan 'Private' 'State-gov' 'Federal-gov' 'Self-emp-not-inc' 'Self-emp-inc'\n",
      " 'Local-gov' 'Without-pay'] \n",
      "\n",
      "fnlwgt [ 77053. 132870. 186061. 140359. 264663. 216864. 150601.  88638. 422013.\n",
      "  70037. 172274. 164526. 129177. 136204. 172175.  45363. 172822. 317847.\n",
      " 119592. 203034.] \n",
      "\n",
      "education ['HS-grad' 'Some-college' '7th-8th' '10th' 'Doctorate' 'Prof-school'\n",
      " 'Bachelors' 'Masters' '11th' nan 'Assoc-acdm' 'Assoc-voc' '1st-4th'\n",
      " '5th-6th' '12th' '9th' 'Preschool'] \n",
      "\n",
      "education.num [ 9 10  4  6 16 15 13 14  7 12 11  2  3  8  5  1] \n",
      "\n",
      "marital.status ['Widowed' 'Divorced' 'Separated' 'Never-married' nan 'Married-civ-spouse'\n",
      " 'Married-spouse-absent' 'Married-AF-spouse'] \n",
      "\n",
      "occupation [nan 'Exec-managerial' 'Machine-op-inspct' 'Prof-specialty'\n",
      " 'Other-service' 'Adm-clerical' 'Craft-repair' 'Transport-moving'\n",
      " 'Handlers-cleaners' 'Sales' 'Farming-fishing' 'Tech-support'\n",
      " 'Protective-serv' 'Armed-Forces' 'Priv-house-serv'] \n",
      "\n",
      "relationship ['Not-in-family' 'Unmarried' 'Own-child' 'Other-relative' 'Husband' 'Wife'\n",
      " nan] \n",
      "\n",
      "race ['White' 'Black' nan 'Asian-Pac-Islander' 'Other' 'Amer-Indian-Eskimo'] \n",
      "\n",
      "sex ['Female' 'Male' nan] \n",
      "\n",
      "capital.gain [    0 99999 41310 34095 27828 25236 25124 22040 20051 18481 15831 15024\n",
      " 15020 14344 14084 13550 11678 10605 10566 10520] \n",
      "\n",
      "capital.loss [4356 3900 3770 3683 3004 2824 2754 2603 2559 2547 2489 2472 2467 2457\n",
      " 2444 2415 2392 2377 2352 2339] \n",
      "\n",
      "hours.per.week [40 18 45 20 60 35 55 76 50 42 25 32 90 48 15 70 52 72 39  6] \n",
      "\n",
      "native.country ['United-States' nan 'Mexico' 'Greece' 'Vietnam' 'China' 'Taiwan' 'India'\n",
      " 'Philippines' 'Trinadad&Tobago' 'Canada' 'South' 'Holand-Netherlands'\n",
      " 'Puerto-Rico' 'Poland' 'Iran' 'England' 'Germany' 'Italy' 'Japan'] \n",
      "\n",
      "income ['<=50k' '>50k'] \n",
      "\n"
     ]
    }
   ],
   "source": [
    "# let's inspect the variable values\n",
    "\n",
    "for var in data.columns:\n",
    "    print(var, data[var].unique()[0:20], '\\n')"
   ]
  },
  {
   "cell_type": "code",
   "execution_count": 140,
   "metadata": {},
   "outputs": [
    {
     "name": "stdout",
     "output_type": "stream",
     "text": [
      "There are 6 discrete variables\n",
      "There are 9 categorical variables\n"
     ]
    }
   ],
   "source": [
    "categorical = [var for var in data.columns if var in ['workclass', 'education', 'marital.status','occupation','relationship','race','sex','native.country','income'] ]\n",
    "\n",
    "\n",
    "discrete = [\n",
    "    var for var in data.columns if data[var].dtype != 'O' and var not in categorical\n",
    "]\n",
    "\n",
    "print(f'There are {len(discrete)} discrete variables')\n",
    "print(f'There are {len(categorical)} categorical variables')"
   ]
  },
  {
   "cell_type": "code",
   "execution_count": null,
   "metadata": {},
   "outputs": [],
   "source": [
    "\n"
   ]
  },
  {
   "cell_type": "code",
   "execution_count": 141,
   "metadata": {},
   "outputs": [
    {
     "name": "stdout",
     "output_type": "stream",
     "text": [
      "workclass : 0.03441353599082306\n",
      "fnlwgt : 0.0005735589331803843\n",
      "education : 0.0146257527960998\n",
      "marital.status : 0.009176942930886148\n",
      "occupation : 0.04072268425580729\n",
      "relationship : 0.004875250932033267\n",
      "race : 0.002294235732721537\n",
      "sex : 0.005735589331803843\n",
      "native.country : 0.025523372526527102\n"
     ]
    }
   ],
   "source": [
    "# to visualise the percentage of missing values for each variable\n",
    "percentage_null_values= data.isnull().mean()\n",
    "for key,value in percentage_null_values.items():\n",
    "    if value >0:\n",
    "        print(key,\":\",value)"
   ]
  },
  {
   "cell_type": "code",
   "execution_count": 143,
   "metadata": {},
   "outputs": [
    {
     "data": {
      "text/plain": [
       "workclass          7\n",
       "education         16\n",
       "marital.status     7\n",
       "occupation        14\n",
       "relationship       6\n",
       "race               5\n",
       "sex                2\n",
       "native.country    38\n",
       "income             2\n",
       "dtype: int64"
      ]
     },
     "execution_count": 143,
     "metadata": {},
     "output_type": "execute_result"
    }
   ],
   "source": [
    "# cardinality (number of different categories)\n",
    "\n",
    "data[categorical].nunique()"
   ]
  },
  {
   "cell_type": "code",
   "execution_count": 144,
   "metadata": {},
   "outputs": [
    {
     "name": "stdout",
     "output_type": "stream",
     "text": [
      "age [90 82 66 54 41 34 38 74 68 45 52 32 51 46 57 22 37 29 61 21 33 49 23 59\n",
      " 60 63 53 44 43 71 48 73 67 40 50 42 39 55 47 31 58 62 36 72 78 83 26 70\n",
      " 27 35 81 65 25 28 56 69 20 30 24 64 75 19 77 80 18 17 76 79] \n",
      "\n",
      "fnlwgt [ 77053. 132870. 186061. ... 230657. 373366. 538583.] \n",
      "\n",
      "education.num [ 9 10  4  6 16 15 13 14  7 12 11  2  3  8  5  1] \n",
      "\n",
      "capital.gain [    0 99999 41310 34095 27828 25236 25124 22040 20051 18481 15831 15024\n",
      " 15020 14344 14084 13550 11678 10605 10566 10520  9562  9386  8614  7978\n",
      "  7896  7688  7443  7430  7298  6849  6767  6723  6514  6497  6418  6360\n",
      "  6097  5721  5556  5455  5178  5060  5013  4934  4931  4865  4787  4687\n",
      "  4650  4508  4416  4386  4101  4064  3942  3908  3887  3818  3781  3674] \n",
      "\n",
      "capital.loss [4356 3900 3770 3683 3004 2824 2754 2603 2559 2547 2489 2472 2467 2457\n",
      " 2444 2415 2392 2377 2352 2339 2282 2267 2258 2246 2238 2231 2206 2205\n",
      " 2201 2179 2174 2163 2149 2129 2080 2057 2051 2042 2002 2001 1980 1977\n",
      " 1974 1944 1902 1887 1876 1848 1844 1825 1816 1762 1755 1741 1740 1735\n",
      " 1726 1721 1719 1672 1669 1668 1651 1648 1628 1617 1602 1594 1590 1579\n",
      " 1573 1564 1539 1504 1485 1411 1408 1380 1340 1258 1138 1092  974  880\n",
      "  810  653  625  419  323  213  155    0] \n",
      "\n",
      "hours.per.week [40 18 45 20 60 35 55 76 50 42 25 32 90 48 15 70 52 72 39  6 65 12 80 67\n",
      " 99 30 75 26 36 10 84 38 62 44  8 28 59  5 24 57 34 37 46 56 41 98 43 63\n",
      "  1 47 68 54  2 16  9  3  4 33 23 22 64 51 19 58 53 96 66 21  7 13 27 11\n",
      " 14] \n",
      "\n"
     ]
    }
   ],
   "source": [
    "for var in discrete:\n",
    "    print(var, data[var].unique(), '\\n')\n"
   ]
  },
  {
   "cell_type": "code",
   "execution_count": 145,
   "metadata": {},
   "outputs": [
    {
     "name": "stdout",
     "output_type": "stream",
     "text": [
      "workclass [nan 'Private' 'State-gov' 'Federal-gov' 'Self-emp-not-inc' 'Self-emp-inc'\n",
      " 'Local-gov' 'Without-pay'] \n",
      "\n",
      "education ['HS-grad' 'Some-college' '7th-8th' '10th' 'Doctorate' 'Prof-school'\n",
      " 'Bachelors' 'Masters' '11th' nan 'Assoc-acdm' 'Assoc-voc' '1st-4th'\n",
      " '5th-6th' '12th' '9th' 'Preschool'] \n",
      "\n",
      "marital.status ['Widowed' 'Divorced' 'Separated' 'Never-married' nan 'Married-civ-spouse'\n",
      " 'Married-spouse-absent' 'Married-AF-spouse'] \n",
      "\n",
      "occupation [nan 'Exec-managerial' 'Machine-op-inspct' 'Prof-specialty'\n",
      " 'Other-service' 'Adm-clerical' 'Craft-repair' 'Transport-moving'\n",
      " 'Handlers-cleaners' 'Sales' 'Farming-fishing' 'Tech-support'\n",
      " 'Protective-serv' 'Armed-Forces' 'Priv-house-serv'] \n",
      "\n",
      "relationship ['Not-in-family' 'Unmarried' 'Own-child' 'Other-relative' 'Husband' 'Wife'\n",
      " nan] \n",
      "\n",
      "race ['White' 'Black' nan 'Asian-Pac-Islander' 'Other' 'Amer-Indian-Eskimo'] \n",
      "\n",
      "sex ['Female' 'Male' nan] \n",
      "\n",
      "native.country ['United-States' nan 'Mexico' 'Greece' 'Vietnam' 'China' 'Taiwan' 'India'\n",
      " 'Philippines' 'Trinadad&Tobago' 'Canada' 'South' 'Holand-Netherlands'\n",
      " 'Puerto-Rico' 'Poland' 'Iran' 'England' 'Germany' 'Italy' 'Japan' 'Hong'\n",
      " 'Honduras' 'Cuba' 'Ireland' 'Cambodia' 'Peru' 'Nicaragua'\n",
      " 'Dominican-Republic' 'Haiti' 'El-Salvador' 'Hungary' 'Columbia'\n",
      " 'Guatemala' 'Jamaica' 'Ecuador' 'France' 'Yugoslavia' 'Scotland'\n",
      " 'Portugal'] \n",
      "\n",
      "income ['<=50k' '>50k'] \n",
      "\n"
     ]
    }
   ],
   "source": [
    "for var in categorical:\n",
    "    print(var, data[var].unique(), '\\n')\n"
   ]
  },
  {
   "cell_type": "code",
   "execution_count": 146,
   "metadata": {},
   "outputs": [
    {
     "data": {
      "text/html": [
       "<div>\n",
       "<style scoped>\n",
       "    .dataframe tbody tr th:only-of-type {\n",
       "        vertical-align: middle;\n",
       "    }\n",
       "\n",
       "    .dataframe tbody tr th {\n",
       "        vertical-align: top;\n",
       "    }\n",
       "\n",
       "    .dataframe thead th {\n",
       "        text-align: right;\n",
       "    }\n",
       "</style>\n",
       "<table border=\"1\" class=\"dataframe\">\n",
       "  <thead>\n",
       "    <tr style=\"text-align: right;\">\n",
       "      <th></th>\n",
       "      <th>age</th>\n",
       "      <th>fnlwgt</th>\n",
       "      <th>education.num</th>\n",
       "      <th>capital.gain</th>\n",
       "      <th>capital.loss</th>\n",
       "      <th>hours.per.week</th>\n",
       "    </tr>\n",
       "  </thead>\n",
       "  <tbody>\n",
       "    <tr>\n",
       "      <th>count</th>\n",
       "      <td>3487.000000</td>\n",
       "      <td>3.485000e+03</td>\n",
       "      <td>3487.000000</td>\n",
       "      <td>3487.000000</td>\n",
       "      <td>3487.00000</td>\n",
       "      <td>3487.000000</td>\n",
       "    </tr>\n",
       "    <tr>\n",
       "      <th>mean</th>\n",
       "      <td>43.357327</td>\n",
       "      <td>1.873078e+05</td>\n",
       "      <td>11.328076</td>\n",
       "      <td>9531.845426</td>\n",
       "      <td>815.22799</td>\n",
       "      <td>44.301405</td>\n",
       "    </tr>\n",
       "    <tr>\n",
       "      <th>std</th>\n",
       "      <td>12.248020</td>\n",
       "      <td>1.008508e+05</td>\n",
       "      <td>2.611302</td>\n",
       "      <td>20686.540806</td>\n",
       "      <td>960.75055</td>\n",
       "      <td>11.775465</td>\n",
       "    </tr>\n",
       "    <tr>\n",
       "      <th>min</th>\n",
       "      <td>17.000000</td>\n",
       "      <td>1.930200e+04</td>\n",
       "      <td>1.000000</td>\n",
       "      <td>0.000000</td>\n",
       "      <td>0.00000</td>\n",
       "      <td>1.000000</td>\n",
       "    </tr>\n",
       "    <tr>\n",
       "      <th>25%</th>\n",
       "      <td>35.000000</td>\n",
       "      <td>1.191010e+05</td>\n",
       "      <td>9.000000</td>\n",
       "      <td>0.000000</td>\n",
       "      <td>0.00000</td>\n",
       "      <td>40.000000</td>\n",
       "    </tr>\n",
       "    <tr>\n",
       "      <th>50%</th>\n",
       "      <td>42.000000</td>\n",
       "      <td>1.756970e+05</td>\n",
       "      <td>11.000000</td>\n",
       "      <td>4508.000000</td>\n",
       "      <td>0.00000</td>\n",
       "      <td>40.000000</td>\n",
       "    </tr>\n",
       "    <tr>\n",
       "      <th>75%</th>\n",
       "      <td>51.000000</td>\n",
       "      <td>2.313770e+05</td>\n",
       "      <td>13.000000</td>\n",
       "      <td>7688.000000</td>\n",
       "      <td>1887.00000</td>\n",
       "      <td>50.000000</td>\n",
       "    </tr>\n",
       "    <tr>\n",
       "      <th>max</th>\n",
       "      <td>90.000000</td>\n",
       "      <td>1.033222e+06</td>\n",
       "      <td>16.000000</td>\n",
       "      <td>99999.000000</td>\n",
       "      <td>4356.00000</td>\n",
       "      <td>99.000000</td>\n",
       "    </tr>\n",
       "  </tbody>\n",
       "</table>\n",
       "</div>"
      ],
      "text/plain": [
       "               age        fnlwgt  education.num  capital.gain  capital.loss  \\\n",
       "count  3487.000000  3.485000e+03    3487.000000   3487.000000    3487.00000   \n",
       "mean     43.357327  1.873078e+05      11.328076   9531.845426     815.22799   \n",
       "std      12.248020  1.008508e+05       2.611302  20686.540806     960.75055   \n",
       "min      17.000000  1.930200e+04       1.000000      0.000000       0.00000   \n",
       "25%      35.000000  1.191010e+05       9.000000      0.000000       0.00000   \n",
       "50%      42.000000  1.756970e+05      11.000000   4508.000000       0.00000   \n",
       "75%      51.000000  2.313770e+05      13.000000   7688.000000    1887.00000   \n",
       "max      90.000000  1.033222e+06      16.000000  99999.000000    4356.00000   \n",
       "\n",
       "       hours.per.week  \n",
       "count     3487.000000  \n",
       "mean        44.301405  \n",
       "std         11.775465  \n",
       "min          1.000000  \n",
       "25%         40.000000  \n",
       "50%         40.000000  \n",
       "75%         50.000000  \n",
       "max         99.000000  "
      ]
     },
     "execution_count": 146,
     "metadata": {},
     "output_type": "execute_result"
    }
   ],
   "source": [
    "data[[var for var in data.columns if data[var].dtype != 'O']].describe()"
   ]
  },
  {
   "cell_type": "code",
   "execution_count": 147,
   "metadata": {},
   "outputs": [],
   "source": [
    "to_cat = ['sex', 'native.country','marital.status','occupation','race','workclass','education','relationship']\n",
    "\n",
    "data[to_cat] = data[to_cat].astype('O')\n",
    "data['income']=data['income'].astype('O')"
   ]
  },
  {
   "cell_type": "code",
   "execution_count": 148,
   "metadata": {
    "scrolled": true
   },
   "outputs": [
    {
     "name": "stdout",
     "output_type": "stream",
     "text": [
      "workclass : 120\n",
      "fnlwgt : 2\n",
      "education : 51\n",
      "marital.status : 32\n",
      "occupation : 142\n",
      "relationship : 17\n",
      "race : 8\n",
      "sex : 20\n",
      "native.country : 89\n"
     ]
    }
   ],
   "source": [
    "null_col = []\n",
    "for col in data.columns:\n",
    "    null_count = sum((data[col].isnull()))\n",
    "    if null_count > 0:\n",
    "        print(col,\":\",null_count)\n",
    "        null_col.append(col)"
   ]
  },
  {
   "cell_type": "code",
   "execution_count": 149,
   "metadata": {},
   "outputs": [
    {
     "data": {
      "text/plain": [
       "<matplotlib.axes._subplots.AxesSubplot at 0x2c8c4874bc8>"
      ]
     },
     "execution_count": 149,
     "metadata": {},
     "output_type": "execute_result"
    },
    {
     "data": {
      "image/png": "[encoded data removed]",
      "text/plain": [
       "<Figure size 720x576 with 2 Axes>"
      ]
     },
     "metadata": {
      "needs_background": "light"
     },
     "output_type": "display_data"
    }
   ],
   "source": [
    "import seaborn as sns\n",
    "f, ax = plt.subplots(figsize=(10, 8))\n",
    "corr = data.corr()\n",
    "sns.heatmap(corr, mask=np.zeros_like(corr, dtype=np.bool),  square=True, ax=ax)"
   ]
  },
  {
   "cell_type": "code",
   "execution_count": 150,
   "metadata": {},
   "outputs": [
    {
     "data": {
      "text/plain": [
       "<matplotlib.axes._subplots.AxesSubplot at 0x2c8c4725508>"
      ]
     },
     "execution_count": 150,
     "metadata": {},
     "output_type": "execute_result"
    },
    {
     "data": {
      "image/png": "[encoded data removed]",
      "text/plain": [
       "<Figure size 432x288 with 1 Axes>"
      ]
     },
     "metadata": {
      "needs_background": "light"
     },
     "output_type": "display_data"
    }
   ],
   "source": [
    "data['education'].hist(bins=30)"
   ]
  },
  {
   "cell_type": "code",
   "execution_count": 151,
   "metadata": {},
   "outputs": [
    {
     "data": {
      "text/plain": [
       "<matplotlib.axes._subplots.AxesSubplot at 0x2c8c47fccc8>"
      ]
     },
     "execution_count": 151,
     "metadata": {},
     "output_type": "execute_result"
    },
    {
     "data": {
      "image/png": "[encoded data removed]",
      "text/plain": [
       "<Figure size 432x288 with 1 Axes>"
      ]
     },
     "metadata": {
      "needs_background": "light"
     },
     "output_type": "display_data"
    }
   ],
   "source": [
    "data['marital.status'].hist(bins=30)"
   ]
  },
  {
   "cell_type": "code",
   "execution_count": 152,
   "metadata": {},
   "outputs": [
    {
     "data": {
      "text/plain": [
       "<matplotlib.axes._subplots.AxesSubplot at 0x2c8c4a54e08>"
      ]
     },
     "execution_count": 152,
     "metadata": {},
     "output_type": "execute_result"
    },
    {
     "data": {
      "image/png": "[encoded data removed]",
      "text/plain": [
       "<Figure size 432x288 with 1 Axes>"
      ]
     },
     "metadata": {
      "needs_background": "light"
     },
     "output_type": "display_data"
    }
   ],
   "source": [
    "#Variable Distribution\n",
    "np.random.seed(29) # for reproducibility\n",
    "\n",
    "n = 200 # in the book, we pass 200 within brackets directly, without defining n\n",
    "x = np.random.randn(n)\n",
    "\n",
    "data_norm = pd.DataFrame([x]).T\n",
    "data_norm.columns = ['x']\n",
    "sns.distplot(data_norm['x'], bins=30)"
   ]
  },
  {
   "cell_type": "code",
   "execution_count": 153,
   "metadata": {},
   "outputs": [],
   "source": [
    "# from feature-engine\n",
    "from feature_engine import missing_data_imputers as mdi\n",
    "# for one hot encoding with feature-engine\n",
    "from feature_engine.categorical_encoders import OneHotCategoricalEncoder\n",
    "from feature_engine.categorical_encoders import RareLabelCategoricalEncoder\n",
    "from sklearn.linear_model import LogisticRegression\n",
    "from sklearn.pipeline import Pipeline\n",
    "# import relevant modules for feature engineering\n",
    "from sklearn.preprocessing import RobustScaler\n",
    "from feature_engine import missing_data_imputers as mdi\n",
    "from feature_engine import discretisers as dsc\n",
    "from feature_engine import categorical_encoders as ce\n",
    "from sklearn.pipeline import Pipeline\n",
    "from sklearn.linear_model import Lasso\n",
    "from sklearn.metrics import mean_squared_error, r2_score\n",
    "from sklearn.tree import DecisionTreeRegressor\n",
    "from math import sqrt\n",
    "from sklearn.model_selection import GridSearchCV\n"
   ]
  },
  {
   "cell_type": "code",
   "execution_count": 154,
   "metadata": {},
   "outputs": [
    {
     "data": {
      "text/plain": [
       "((2789, 14), (698, 14))"
      ]
     },
     "execution_count": 154,
     "metadata": {},
     "output_type": "execute_result"
    }
   ],
   "source": [
    "# separate into training and testing set\n",
    "from sklearn.model_selection import train_test_split    \n",
    "X_train, X_test, y_train, y_test = train_test_split(\n",
    "    data.drop('income', axis=1),  # predictors\n",
    "    data['income'],  # target\n",
    "    test_size=0.2,  # percentage of obs in test set\n",
    "    random_state=0)  # seed to ensure reproducibility\n",
    "\n",
    "X_train.shape, X_test.shape"
   ]
  },
  {
   "cell_type": "code",
   "execution_count": 155,
   "metadata": {},
   "outputs": [
    {
     "data": {
      "text/html": [
       "<div>\n",
       "<style scoped>\n",
       "    .dataframe tbody tr th:only-of-type {\n",
       "        vertical-align: middle;\n",
       "    }\n",
       "\n",
       "    .dataframe tbody tr th {\n",
       "        vertical-align: top;\n",
       "    }\n",
       "\n",
       "    .dataframe thead th {\n",
       "        text-align: right;\n",
       "    }\n",
       "</style>\n",
       "<table border=\"1\" class=\"dataframe\">\n",
       "  <thead>\n",
       "    <tr style=\"text-align: right;\">\n",
       "      <th></th>\n",
       "      <th>age</th>\n",
       "      <th>workclass</th>\n",
       "      <th>fnlwgt</th>\n",
       "      <th>education</th>\n",
       "      <th>education.num</th>\n",
       "      <th>marital.status</th>\n",
       "      <th>occupation</th>\n",
       "      <th>relationship</th>\n",
       "      <th>race</th>\n",
       "      <th>sex</th>\n",
       "      <th>capital.gain</th>\n",
       "      <th>capital.loss</th>\n",
       "      <th>hours.per.week</th>\n",
       "      <th>native.country</th>\n",
       "    </tr>\n",
       "  </thead>\n",
       "  <tbody>\n",
       "    <tr>\n",
       "      <th>1262</th>\n",
       "      <td>20</td>\n",
       "      <td>NaN</td>\n",
       "      <td>369678.0</td>\n",
       "      <td>12th</td>\n",
       "      <td>8</td>\n",
       "      <td>Never-married</td>\n",
       "      <td>NaN</td>\n",
       "      <td>Not-in-family</td>\n",
       "      <td>Other</td>\n",
       "      <td>Male</td>\n",
       "      <td>0</td>\n",
       "      <td>1602</td>\n",
       "      <td>40</td>\n",
       "      <td>United-States</td>\n",
       "    </tr>\n",
       "    <tr>\n",
       "      <th>3293</th>\n",
       "      <td>42</td>\n",
       "      <td>Private</td>\n",
       "      <td>255847.0</td>\n",
       "      <td>HS-grad</td>\n",
       "      <td>9</td>\n",
       "      <td>Married-civ-spouse</td>\n",
       "      <td>Machine-op-inspct</td>\n",
       "      <td>Husband</td>\n",
       "      <td>White</td>\n",
       "      <td>Male</td>\n",
       "      <td>4386</td>\n",
       "      <td>0</td>\n",
       "      <td>48</td>\n",
       "      <td>United-States</td>\n",
       "    </tr>\n",
       "    <tr>\n",
       "      <th>1662</th>\n",
       "      <td>37</td>\n",
       "      <td>Self-emp-not-inc</td>\n",
       "      <td>353298.0</td>\n",
       "      <td>HS-grad</td>\n",
       "      <td>9</td>\n",
       "      <td>Married-civ-spouse</td>\n",
       "      <td>Sales</td>\n",
       "      <td>Husband</td>\n",
       "      <td>White</td>\n",
       "      <td>Male</td>\n",
       "      <td>99999</td>\n",
       "      <td>0</td>\n",
       "      <td>50</td>\n",
       "      <td>United-States</td>\n",
       "    </tr>\n",
       "    <tr>\n",
       "      <th>1626</th>\n",
       "      <td>43</td>\n",
       "      <td>Private</td>\n",
       "      <td>58447.0</td>\n",
       "      <td>Doctorate</td>\n",
       "      <td>16</td>\n",
       "      <td>Married-civ-spouse</td>\n",
       "      <td>Prof-specialty</td>\n",
       "      <td>Husband</td>\n",
       "      <td>White</td>\n",
       "      <td>Male</td>\n",
       "      <td>99999</td>\n",
       "      <td>0</td>\n",
       "      <td>55</td>\n",
       "      <td>United-States</td>\n",
       "    </tr>\n",
       "    <tr>\n",
       "      <th>3107</th>\n",
       "      <td>44</td>\n",
       "      <td>Self-emp-inc</td>\n",
       "      <td>103643.0</td>\n",
       "      <td>HS-grad</td>\n",
       "      <td>9</td>\n",
       "      <td>Married-civ-spouse</td>\n",
       "      <td>Exec-managerial</td>\n",
       "      <td>Husband</td>\n",
       "      <td>White</td>\n",
       "      <td>Male</td>\n",
       "      <td>5013</td>\n",
       "      <td>0</td>\n",
       "      <td>60</td>\n",
       "      <td>Greece</td>\n",
       "    </tr>\n",
       "  </tbody>\n",
       "</table>\n",
       "</div>"
      ],
      "text/plain": [
       "      age         workclass    fnlwgt  education  education.num  \\\n",
       "1262   20               NaN  369678.0       12th              8   \n",
       "3293   42           Private  255847.0    HS-grad              9   \n",
       "1662   37  Self-emp-not-inc  353298.0    HS-grad              9   \n",
       "1626   43           Private   58447.0  Doctorate             16   \n",
       "3107   44      Self-emp-inc  103643.0    HS-grad              9   \n",
       "\n",
       "          marital.status         occupation   relationship   race   sex  \\\n",
       "1262       Never-married                NaN  Not-in-family  Other  Male   \n",
       "3293  Married-civ-spouse  Machine-op-inspct        Husband  White  Male   \n",
       "1662  Married-civ-spouse              Sales        Husband  White  Male   \n",
       "1626  Married-civ-spouse     Prof-specialty        Husband  White  Male   \n",
       "3107  Married-civ-spouse    Exec-managerial        Husband  White  Male   \n",
       "\n",
       "      capital.gain  capital.loss  hours.per.week native.country  \n",
       "1262             0          1602              40  United-States  \n",
       "3293          4386             0              48  United-States  \n",
       "1662         99999             0              50  United-States  \n",
       "1626         99999             0              55  United-States  \n",
       "3107          5013             0              60         Greece  "
      ]
     },
     "execution_count": 155,
     "metadata": {},
     "output_type": "execute_result"
    }
   ],
   "source": [
    "X_train.head()"
   ]
  },
  {
   "cell_type": "code",
   "execution_count": 156,
   "metadata": {},
   "outputs": [
    {
     "name": "stdout",
     "output_type": "stream",
     "text": [
      "<class 'pandas.core.frame.DataFrame'>\n",
      "Int64Index: 2789 entries, 1262 to 2732\n",
      "Data columns (total 14 columns):\n",
      "age               2789 non-null int64\n",
      "workclass         2693 non-null object\n",
      "fnlwgt            2788 non-null float64\n",
      "education         2744 non-null object\n",
      "education.num     2789 non-null int64\n",
      "marital.status    2762 non-null object\n",
      "occupation        2676 non-null object\n",
      "relationship      2774 non-null object\n",
      "race              2783 non-null object\n",
      "sex               2773 non-null object\n",
      "capital.gain      2789 non-null int64\n",
      "capital.loss      2789 non-null int64\n",
      "hours.per.week    2789 non-null int64\n",
      "native.country    2715 non-null object\n",
      "dtypes: float64(1), int64(5), object(8)\n",
      "memory usage: 326.8+ KB\n"
     ]
    }
   ],
   "source": [
    "X_train.info()"
   ]
  },
  {
   "cell_type": "code",
   "execution_count": 157,
   "metadata": {},
   "outputs": [
    {
     "data": {
      "text/plain": [
       "Winsorizer(distribution='skewed', fold=1.5, tail='both',\n",
       "           variables=['age', 'fnlwgt', 'education.num', 'capital.gain',\n",
       "                      'capital.loss', 'hours.per.week'])"
      ]
     },
     "execution_count": 157,
     "metadata": {},
     "output_type": "execute_result"
    }
   ],
   "source": [
    "#handling outliers\n",
    "from feature_engine.outlier_removers import Winsorizer\n",
    "winsorizer = Winsorizer(distribution='skewed', # choose skewed for IQR rule boundaries or gaussian for mean and std\n",
    "                          tail='both', # cap left, right or both tails \n",
    "                          fold=1.5,\n",
    "                          variables=discrete)\n",
    "\n",
    "winsorizer.fit(X_train)"
   ]
  },
  {
   "cell_type": "code",
   "execution_count": 158,
   "metadata": {},
   "outputs": [],
   "source": [
    "X_train = winsorizer.transform(X_train)\n",
    "X_test = winsorizer.transform(X_test)"
   ]
  },
  {
   "cell_type": "code",
   "execution_count": 159,
   "metadata": {},
   "outputs": [],
   "source": [
    "\n",
    "from sklearn.impute import SimpleImputer\n",
    "imputer = SimpleImputer(missing_values=np.nan, strategy='mean')\n",
    "\n"
   ]
  },
  {
   "cell_type": "code",
   "execution_count": 160,
   "metadata": {},
   "outputs": [],
   "source": [
    "from sklearn.preprocessing import StandardScaler\n",
    "income_pipe = Pipeline([\n",
    "\n",
    "    # missing data imputation \n",
    "    ('imputer_num_mean',\n",
    "     mdi.MeanMedianImputer(imputation_method='mean',variables=['fnlwgt'])),\n",
    "\n",
    "    # categorical encoding \n",
    "    ('encoder_rare_label',\n",
    "     RareLabelCategoricalEncoder(tol=0.01,\n",
    "                                    n_categories=10,\n",
    "                                    variables=to_cat)),\n",
    "    ('categorical_encoder',\n",
    "     OneHotCategoricalEncoder( top_categories=None,\n",
    "                               variables=to_cat, # we can select which variables to encode\n",
    "                               drop_last=True)),\n",
    "     ('scale',StandardScaler())\n",
    "    \n",
    "])"
   ]
  },
  {
   "cell_type": "code",
   "execution_count": 161,
   "metadata": {},
   "outputs": [
    {
     "data": {
      "text/plain": [
       "Pipeline(memory=None,\n",
       "         steps=[('imputer_num_mean',\n",
       "                 MeanMedianImputer(imputation_method='mean',\n",
       "                                   variables=['fnlwgt'])),\n",
       "                ('encoder_rare_label',\n",
       "                 RareLabelCategoricalEncoder(n_categories=10, tol=0.01,\n",
       "                                             variables=['sex', 'native.country',\n",
       "                                                        'marital.status',\n",
       "                                                        'occupation', 'race',\n",
       "                                                        'workclass',\n",
       "                                                        'education',\n",
       "                                                        'relationship'])),\n",
       "                ('categorical_encoder',\n",
       "                 OneHotCategoricalEncoder(drop_last=True, top_categories=None,\n",
       "                                          variables=['sex', 'native.country',\n",
       "                                                     'marital.status',\n",
       "                                                     'occupation', 'race',\n",
       "                                                     'workclass', 'education',\n",
       "                                                     'relationship'])),\n",
       "                ('scale',\n",
       "                 StandardScaler(copy=True, with_mean=True, with_std=True))],\n",
       "         verbose=False)"
      ]
     },
     "execution_count": 161,
     "metadata": {},
     "output_type": "execute_result"
    }
   ],
   "source": [
    "income_pipe.fit(X_train, y_train)"
   ]
  },
  {
   "cell_type": "code",
   "execution_count": 162,
   "metadata": {},
   "outputs": [],
   "source": [
    "# Apply Transformations\n",
    "X_train=income_pipe.transform(X_train)\n",
    "X_test=income_pipe.transform(X_test)"
   ]
  },
  {
   "cell_type": "markdown",
   "metadata": {},
   "source": [
    "### Basic Algorithm"
   ]
  },
  {
   "cell_type": "code",
   "execution_count": 163,
   "metadata": {},
   "outputs": [],
   "source": [
    "# Naive Algorithm \n",
    "from sklearn.dummy import DummyClassifier\n",
    "from sklearn.model_selection import cross_val_score"
   ]
  },
  {
   "cell_type": "code",
   "execution_count": 164,
   "metadata": {},
   "outputs": [
    {
     "name": "stdout",
     "output_type": "stream",
     "text": [
      "Mean Cross-validation scores: 0.49429082219831627\n",
      "\n",
      "Naive Algorithm Test Performance:  0.5830945558739254\n"
     ]
    }
   ],
   "source": [
    "model_dummy = DummyClassifier(strategy='stratified',random_state=123)\n",
    "model_dummy.fit(X_train,y_train)\n",
    "cv_scores = cross_val_score(model_dummy, X_train, y_train,scoring='roc_auc')\n",
    "\n",
    "# Mean Cross validation Score\n",
    "print(\"Mean Cross-validation scores: {}\".format(cv_scores.mean()))\n",
    "print()\n",
    "\n",
    "# Check test data set performance\n",
    "print(\"Naive Algorithm Test Performance: \", model_dummy.score(X_test,y_test))"
   ]
  },
  {
   "cell_type": "code",
   "execution_count": 165,
   "metadata": {},
   "outputs": [
    {
     "name": "stdout",
     "output_type": "stream",
     "text": [
      "Mean Cross-validation scores: 0.8486966146084697\n",
      "\n",
      "Logistic.coef_: [[ 1.70601828e-01  5.89717216e-02  6.64363727e-01  4.25275750e+00\n",
      "   1.70579209e+00  3.74776720e-01 -2.63157002e-01 -4.98193225e-01\n",
      "   5.31348814e-02 -5.83752098e-01  3.33860770e-01 -4.33340195e-01\n",
      "   0.00000000e+00 -2.00646956e-01 -1.46935147e-01 -1.14752241e-01\n",
      "   1.29760954e-02  9.23844484e-02  2.49766285e-01  3.64968583e-01\n",
      "   4.97209023e-01 -8.60839412e-02  1.02144753e-01  1.90281068e-01\n",
      "   2.49105225e-01  1.02905394e-01  1.50185637e-01  2.80457166e-02\n",
      "  -5.71375400e-02 -2.65456904e-01 -1.41911531e-01 -1.28096380e-01\n",
      "  -7.81424959e-02  0.00000000e+00  4.59053449e-02  4.29817150e-03\n",
      "   1.48929303e-01 -5.86619467e-04 -4.13987190e-02 -1.13966443e-02\n",
      "  -5.88226021e-02 -1.94554478e-01  4.31540491e-03 -1.48683245e-01\n",
      "  -1.19399919e-01 -5.27844222e-02 -5.84853392e-02 -1.70089887e-01\n",
      "   9.42305363e-03 -7.48561015e-02 -6.30140025e-03  1.96289057e-01\n",
      "   1.72473338e-01  3.21974344e-02  3.05339787e-01  2.09206725e-01\n",
      "  -1.78933257e-01]]\n",
      "Logistic.intercept_: [2.21480634]\n",
      "Logistic Performance:  0.8510028653295129\n"
     ]
    }
   ],
   "source": [
    "#logistic regression\n",
    "# Train a logistic regression model, report the coefficients and model performance \n",
    "\n",
    "# YOUR CODE HERE\n",
    "from sklearn.linear_model import LogisticRegression\n",
    "from sklearn.model_selection import cross_val_score\n",
    "\n",
    "clf = LogisticRegression().fit(X_train, y_train)\n",
    "\n",
    "cv_scores = cross_val_score(clf, X_train, y_train)\n",
    "train_preds=clf.predict(X_train)\n",
    "test_preds= clf.predict(X_test)\n",
    "# Mean Cross validation Score\n",
    "print(\"Mean Cross-validation scores: {}\".format(cv_scores.mean()))\n",
    "print()\n",
    "\n",
    "# Print Co-efficients\n",
    "print(\"Logistic.coef_:\", clf.coef_)\n",
    "print(\"Logistic.intercept_:\", clf.intercept_)\n",
    "\n",
    "# Check test data set performance\n",
    "print(\"Logistic Performance: \", clf.score(X_test,y_test))\n",
    "\n"
   ]
  },
  {
   "cell_type": "code",
   "execution_count": 46,
   "metadata": {
    "scrolled": false
   },
   "outputs": [
    {
     "name": "stdout",
     "output_type": "stream",
     "text": [
      "Best Mean Cross-validation score: 0.78\n",
      "\n",
      "KNN parameters:  {'n_neighbors': 24}\n",
      "KNN Test Performance:  0.7822349570200573\n"
     ]
    }
   ],
   "source": [
    "# Train a KNN model, report the coefficients, the best parameters, and model performance \n",
    "# hint: find the optimal k\n",
    "\n",
    "# YOUR CODE HERE\n",
    "\n",
    "from sklearn.model_selection import GridSearchCV\n",
    "from sklearn.neighbors import KNeighborsClassifier\n",
    "\n",
    "knn = KNeighborsClassifier()\n",
    "\n",
    "\n",
    "# define a list of parameters\n",
    "\n",
    "param_knn = {'n_neighbors': range(5,25)}\n",
    "\n",
    "#apply grid search\n",
    "grid_knn = GridSearchCV(knn, param_knn, cv=5, return_train_score=True)\n",
    "grid_knn.fit(X_train, y_train)\n",
    "\n",
    "# Mean Cross Validation Score\n",
    "print(\"Best Mean Cross-validation score: {:.2f}\".format(grid_knn.best_score_))\n",
    "print()\n",
    "\n",
    "#find best parameters\n",
    "print('KNN parameters: ', grid_knn.best_params_)\n",
    "\n",
    "# Check test data set performance\n",
    "print(\"KNN Test Performance: \", grid_knn.score(X_test,y_test))"
   ]
  },
  {
   "cell_type": "code",
   "execution_count": 41,
   "metadata": {},
   "outputs": [
    {
     "name": "stdout",
     "output_type": "stream",
     "text": [
      "Best Mean Cross-validation score: 0.95\n",
      "\n",
      "Decision Tree parameters:  {'max_depth': 13}\n",
      "Decision Tree Performance:  0.9527220630372493\n"
     ]
    }
   ],
   "source": [
    "# Train a Decision Tree model, report the coefficients, the best parameters, and model performance (10 points)\n",
    "# hint: find the optimal max_depth\n",
    "\n",
    "# YOUR CODE HERE\n",
    "from sklearn.tree import DecisionTreeClassifier\n",
    "dtree = DecisionTreeClassifier(random_state=0)\n",
    "\n",
    "#define a list of parameters\n",
    "param_dtree = {'max_depth': range(1,20)}\n",
    "\n",
    "#apply grid search\n",
    "grid_dtree = GridSearchCV(dtree, param_dtree, cv=5, return_train_score = True)\n",
    "grid_dtree.fit(X_train, y_train)\n",
    "\n",
    "# Mean Cross Validation Score\n",
    "print(\"Best Mean Cross-validation score: {:.2f}\".format(grid_dtree.best_score_))\n",
    "print()\n",
    "\n",
    "#find best parameters\n",
    "print('Decision Tree parameters: ', grid_dtree.best_params_)\n",
    "\n",
    "# Check test data set performance\n",
    "print(\"Decision Tree Performance: \", grid_dtree.score(X_test,y_test))"
   ]
  },
  {
   "cell_type": "code",
   "execution_count": 54,
   "metadata": {},
   "outputs": [
    {
     "name": "stdout",
     "output_type": "stream",
     "text": [
      "train score:  0.9297578146407268\n",
      "test score:  0.9297578146407268\n",
      "Best parameters: {'C': 10, 'kernel': 'linear'}\n",
      "Best cross-validation score: 0.92\n"
     ]
    }
   ],
   "source": [
    "#SVM Model\n",
    "from sklearn import svm\n",
    "\n",
    "supvm = svm.SVC(random_state=0)\n",
    "\n",
    "C = [0.1, 1, 10]\n",
    "\n",
    "param_svm = [{'kernel': ['rbf'],\n",
    "               'C': C,\n",
    "               'gamma': [0.01, 0.1, 1]},\n",
    "              {'kernel': ['linear'],\n",
    "               'C': C}]\n",
    "\n",
    "grid_svm = GridSearchCV(supvm, param_svm, cv=5,\n",
    "                          return_train_score=True,scoring = 'roc_auc')\n",
    "grid_svm.fit(X_train, y_train)\n",
    "print('train score: ', grid_svm.score(X_train, y_train))\n",
    "print('test score: ', grid_svm.score(X_train, y_train))\n",
    "print(\"Best parameters: {}\".format(grid_svm.best_params_))\n",
    "print(\"Best cross-validation score: {:.2f}\".format(grid_svm.best_score_))"
   ]
  },
  {
   "cell_type": "code",
   "execution_count": 62,
   "metadata": {},
   "outputs": [
    {
     "name": "stdout",
     "output_type": "stream",
     "text": [
      "Best Mean Cross Validation Score is 0.9630388508707783\n",
      "Best Mean Cross Validation Score is {'criterion': 'gini', 'max_depth': 8, 'max_features': 'auto', 'n_estimators': 500}\n",
      "Train score is 0.9869445673990075\n",
      "Test score is 0.9671213811117149\n"
     ]
    }
   ],
   "source": [
    "#Random Forest Classifier\n",
    "from sklearn.ensemble import RandomForestClassifier\n",
    "rfc =RandomForestClassifier(random_state=42)\n",
    "rfc_param = { \n",
    "    'n_estimators': [200, 500],\n",
    "    'max_features': ['auto', 'sqrt', 'log2'],\n",
    "    'max_depth' : [2,4,5,6,7,8],\n",
    "    'criterion' :['gini', 'entropy']\n",
    "}\n",
    "\n",
    "grid_rf = GridSearchCV(rfc, rfc_param,cv=5, return_train_score=True, scoring = 'roc_auc')\n",
    "grid_rf.fit(X_train,y_train)\n",
    "print(f'Best Mean Cross Validation Score is {grid_rf.best_score_}')\n",
    "print(f'Best Mean Cross Validation Score is {grid_rf.best_params_}')\n",
    "print(f'Train score is {grid_rf.score(X_train,y_train)}')\n",
    "print(f'Test score is {grid_rf.score(X_test,y_test)}')"
   ]
  },
  {
   "cell_type": "code",
   "execution_count": 56,
   "metadata": {},
   "outputs": [
    {
     "name": "stdout",
     "output_type": "stream",
     "text": [
      "Best Mean Cross Validation Score is 0.9659401684652164\n",
      "Best Mean Cross Validation Score is {'learning_rate': 0.5, 'max_depth': 4, 'n_estimators': 150}\n",
      "Train score is 1.0\n",
      "Test score is 0.9613180515759312\n"
     ]
    }
   ],
   "source": [
    "#Gradient Boost Model\n",
    "from  sklearn.ensemble import GradientBoostingClassifier\n",
    "gbc= GradientBoostingClassifier(random_state=42)\n",
    "gbc_param = {\n",
    "              'max_depth' : [2,3,4],\n",
    "              'n_estimators' : [100,150],\n",
    "              'learning_rate' : [0.5,1.0,2],\n",
    "             }\n",
    "gbc_grid = GridSearchCV(gbc, gbc_param,cv=5, return_train_score=True, )\n",
    "gbc_grid.fit(X_train,y_train)\n",
    "print(f'Best Mean Cross Validation Score is {gbc_grid.best_score_}')\n",
    "print(f'Best Mean Cross Validation Score is {gbc_grid.best_params_}')\n",
    "print(f'Train score is {gbc_grid.score(X_train,y_train)}')\n",
    "print(f'Test score is {gbc_grid.score(X_test,y_test)}')\n"
   ]
  },
  {
   "cell_type": "code",
   "execution_count": 57,
   "metadata": {},
   "outputs": [
    {
     "name": "stdout",
     "output_type": "stream",
     "text": [
      "Best Mean Cross Validation Score is 0.8153491245342753\n",
      "Best Mean Cross Validation Score is {'criterion': 'entropy', 'max_depth': 8, 'max_features': 'auto', 'n_estimators': 200}\n",
      "Train score is 0.8408031552527788\n",
      "Test score is 0.839541547277937\n"
     ]
    }
   ],
   "source": [
    "# Extra Tress Classifier\n",
    "from  sklearn.ensemble import ExtraTreesClassifier\n",
    "etc= ExtraTreesClassifier(random_state=42)\n",
    "etc_param = { \n",
    "    'n_estimators': [200, 500],\n",
    "    'max_features': ['auto', 'sqrt', 'log2'],\n",
    "    'max_depth' : [2,4,5,6,7,8],\n",
    "    'criterion' :['gini', 'entropy']\n",
    "}\n",
    "etc_grid = GridSearchCV(etc, etc_param,cv=5, return_train_score=True, )\n",
    "etc_grid.fit(X_train,y_train)\n",
    "print(f'Best Mean Cross Validation Score is {etc_grid.best_score_}')\n",
    "print(f'Best Mean Cross Validation Score is {etc_grid.best_params_}')\n",
    "print(f'Train score is {etc_grid.score(X_train,y_train)}')\n",
    "print(f'Test score is {etc_grid.score(X_test,y_test)}')\n"
   ]
  },
  {
   "cell_type": "code",
   "execution_count": 58,
   "metadata": {},
   "outputs": [
    {
     "name": "stdout",
     "output_type": "stream",
     "text": [
      "Requirement already satisfied: xgboost in c:\\users\\katar\\anaconda3\\envs\\buan6341_2020\\lib\\site-packages (1.0.2)\n",
      "Requirement already satisfied: scipy in c:\\users\\katar\\anaconda3\\envs\\buan6341_2020\\lib\\site-packages (from xgboost) (1.3.0)\n",
      "Requirement already satisfied: numpy in c:\\users\\katar\\anaconda3\\envs\\buan6341_2020\\lib\\site-packages (from xgboost) (1.18.1)\n",
      "Note: you may need to restart the kernel to use updated packages.\n"
     ]
    }
   ],
   "source": [
    "pip install xgboost"
   ]
  },
  {
   "cell_type": "code",
   "execution_count": 170,
   "metadata": {},
   "outputs": [
    {
     "name": "stdout",
     "output_type": "stream",
     "text": [
      "Best Mean Cross Validation Score is 0.9630682805351247\n",
      "Best Mean Cross Validation Score is {'learning_rate': 0.5, 'max_depth': 4, 'min_child_weight': 1, 'n_estimators': 100, 'subsample': 0.8}\n",
      "Train score is 1.0\n",
      "Test score is 0.9598853868194842\n"
     ]
    }
   ],
   "source": [
    "#XG boost Model\n",
    "from xgboost import XGBClassifier\n",
    "from  xgboost import XGBClassifier\n",
    "xgbc= XGBClassifier(random_state=42,early_stopping_rounds=2,objective= 'binary:logistic')\n",
    "xgbc_param = {\n",
    "              'max_depth' : [2,4],\n",
    "              'n_estimators' : [50,100],\n",
    "              'learning_rate' : [0.1,0.5],\n",
    "               'min_child_weight' : [1,3],\n",
    "                'subsample':[0.6,0.7]\n",
    "             }\n",
    "xgbc_grid = GridSearchCV(xgbc, xgbc_param,cv=5, return_train_score=True, )\n",
    "xgbc_grid.fit(X_train,y_train)\n",
    "print(f'Best Mean Cross Validation Score is {xgbc_grid.best_score_}')\n",
    "print(f'Best Mean Cross Validation Score is {xgbc_grid.best_params_}')\n",
    "print(f'Train score is {xgbc_grid.score(X_train,y_train)}')\n",
    "print(f'Test score is {xgbc_grid.score(X_test,y_test)}')"
   ]
  },
  {
   "cell_type": "code",
   "execution_count": 72,
   "metadata": {},
   "outputs": [],
   "source": [
    "\n",
    "estimators_ = [('dtree',grid_dtree.best_estimator_),\n",
    "            ('rfc',grid_rf.best_estimator_),('gbc',gbc_grid.best_estimator_),\n",
    "            ('etc',etc_grid.best_estimator_),('xgbc',xgbc_grid.best_estimator_)]"
   ]
  },
  {
   "cell_type": "code",
   "execution_count": 284,
   "metadata": {},
   "outputs": [
    {
     "data": {
      "text/plain": [
       "dict_keys(['dtree', 'rfc', 'etc', 'gbc', 'xgbc'])"
      ]
     },
     "execution_count": 284,
     "metadata": {},
     "output_type": "execute_result"
    }
   ],
   "source": [
    "classifiers.keys()"
   ]
  },
  {
   "cell_type": "code",
   "execution_count": 285,
   "metadata": {},
   "outputs": [
    {
     "name": "stdout",
     "output_type": "stream",
     "text": [
      "Requirement already up-to-date: scikit-learn in c:\\users\\katar\\anaconda3\\envs\\buan6341_2020\\lib\\site-packages (0.22.2.post1)\n",
      "Requirement already satisfied, skipping upgrade: joblib>=0.11 in c:\\users\\katar\\anaconda3\\envs\\buan6341_2020\\lib\\site-packages (from scikit-learn) (0.14.1)\n",
      "Requirement already satisfied, skipping upgrade: numpy>=1.11.0 in c:\\users\\katar\\anaconda3\\envs\\buan6341_2020\\lib\\site-packages (from scikit-learn) (1.18.1)\n",
      "Requirement already satisfied, skipping upgrade: scipy>=0.17.0 in c:\\users\\katar\\anaconda3\\envs\\buan6341_2020\\lib\\site-packages (from scikit-learn) (1.3.0)\n",
      "Note: you may need to restart the kernel to use updated packages.\n"
     ]
    }
   ],
   "source": [
    "pip install -U scikit-learn"
   ]
  },
  {
   "cell_type": "code",
   "execution_count": 287,
   "metadata": {},
   "outputs": [],
   "source": [
    "\n",
    "results_mean_std = []\n",
    "for  key, value in classifiers.items():\n",
    "    mean = value.cv_results_['mean_test_score'][value.best_index_]\n",
    "    std=value.cv_results_['std_test_score'][value.best_index_]\n",
    "     \n",
    "    results_mean_std.append({\n",
    "        \"model\": key,\n",
    "        \"mean\": mean,\n",
    "        \"std\": std\n",
    "    })"
   ]
  },
  {
   "cell_type": "code",
   "execution_count": 298,
   "metadata": {},
   "outputs": [
    {
     "name": "stdout",
     "output_type": "stream",
     "text": [
      "Best Mean Cross Validation Score is 0.9907651564881614\n",
      "Best Mean Cross Validation params is {'final_estimator__C': 0.1, 'stack_method': 'auto'}\n",
      "Train score is 1.0\n",
      "Test score is 0.9911154326460186\n"
     ]
    }
   ],
   "source": [
    "#Stacking Classifier\n",
    "from sklearn.ensemble import StackingClassifier\n",
    "sclf1 = StackingClassifier(estimators= estimators_\n",
    "                            , final_estimator=LogisticRegression())\n",
    "sclf1_param = {\n",
    "              'final_estimator__C' : [0.1,0.2],\n",
    "              'stack_method':['auto', 'predict_proba']\n",
    "             }\n",
    "sclf1_grid = GridSearchCV(sclf1, sclf1_param,cv=5, return_train_score=True,scoring='roc_auc' )\n",
    "sclf1_grid.fit(X_train,y_train)\n",
    "\n",
    "print(f'Best Mean Cross Validation Score is {sclf1_grid.best_score_}')\n",
    "print(f'Best Mean Cross Validation params is {sclf1_grid.best_params_}')\n",
    "print(f'Train score is {sclf1_grid.score(X_train,y_train)}')\n",
    "print(f'Test score is {sclf1_grid.score(X_test,y_test)}')"
   ]
  },
  {
   "cell_type": "markdown",
   "metadata": {},
   "source": [
    "### CostSensitive Algorithms"
   ]
  },
  {
   "cell_type": "code",
   "execution_count": 367,
   "metadata": {},
   "outputs": [
    {
     "name": "stdout",
     "output_type": "stream",
     "text": [
      "Best parameters: {'class_weight': 'balanced'}\n",
      "Best Mean cross-validation score: 0.92\n"
     ]
    }
   ],
   "source": [
    "#cost sensitive logistic regession\n",
    "param_grid = {   \n",
    "    'class_weight': ['balanced'],\n",
    "}\n",
    "#apply grid search\n",
    "costgrid_logreg= GridSearchCV(LogisticRegression(solver='lbfgs'), param_grid, cv=5, n_jobs=2, scoring='roc_auc')\n",
    "costgrid_logreg.fit(X_train, y_train)\n",
    "\n",
    "print(\"Best parameters: {}\".format(costgrid_logreg.best_params_))\n",
    "print(\"Best Mean cross-validation score: {:.2f}\".format(costgrid_logreg.best_score_))"
   ]
  },
  {
   "cell_type": "code",
   "execution_count": 368,
   "metadata": {},
   "outputs": [
    {
     "name": "stdout",
     "output_type": "stream",
     "text": [
      "Best parameters: {'class_weight': 'balanced'}\n",
      "Best Mean cross-validation score: 0.89\n"
     ]
    }
   ],
   "source": [
    "#svc\n",
    "param_grid = {\n",
    "    'class_weight': ['balanced'],\n",
    "}\n",
    "#apply grid search\n",
    "costgrid_svc= GridSearchCV(svm.SVC(), param_grid, cv=5, n_jobs=2, scoring='roc_auc')\n",
    "costgrid_svc.fit(X_train, y_train)\n",
    "\n",
    "print(\"Best parameters: {}\".format(costgrid_svc.best_params_))\n",
    "print(\"Best Mean cross-validation score: {:.2f}\".format(costgrid_svc.best_score_))"
   ]
  },
  {
   "cell_type": "code",
   "execution_count": 369,
   "metadata": {},
   "outputs": [
    {
     "name": "stdout",
     "output_type": "stream",
     "text": [
      "Best parameters: {'max_depth': 7}\n",
      "Best Mean cross-validation score: 0.95\n"
     ]
    }
   ],
   "source": [
    "#decison tree\n",
    "param_grid = { \n",
    "    'class_weight': ['balanced'],\n",
    "}\n",
    "#apply grid search\n",
    "costgrid_dtree= GridSearchCV(dtree, param_dtree, cv=5, return_train_score = True)\n",
    "costgrid_dtree.fit(X_train, y_train)\n",
    "\n",
    "print(\"Best parameters: {}\".format(costgrid_dtree.best_params_))\n",
    "print(\"Best Mean cross-validation score: {:.2f}\".format(costgrid_dtree.best_score_))"
   ]
  },
  {
   "cell_type": "code",
   "execution_count": 167,
   "metadata": {},
   "outputs": [
    {
     "name": "stdout",
     "output_type": "stream",
     "text": [
      "Best parameters: {'learning_rate': 0.5, 'max_depth': 4, 'min_child_weight': 1, 'n_estimators': 50, 'subsample': 0.9}\n",
      "Best Mean cross-validation score: 0.99\n"
     ]
    }
   ],
   "source": [
    "#xgb\n",
    "param_grid = { \n",
    "     'max_depth' : [2,4],\n",
    "              'n_estimators' : [50,100],\n",
    "              'learning_rate' : [0.1,0.5],\n",
    "               'min_child_weight' : [1,3],\n",
    "                'subsample':[0.6,0.7,0.8,0.9]\n",
    "}\n",
    "#apply grid search\n",
    "costgrid_xgboost= GridSearchCV(XGBClassifier(), param_grid, cv=5, n_jobs=2, scoring='roc_auc')\n",
    "costgrid_xgboost.fit(X_train, y_train)\n",
    "\n",
    "print(\"Best parameters: {}\".format(costgrid_xgboost.best_params_))\n",
    "print(\"Best Mean cross-validation score: {:.2f}\".format(costgrid_xgboost.best_score_))"
   ]
  },
  {
   "cell_type": "code",
   "execution_count": 373,
   "metadata": {},
   "outputs": [
    {
     "name": "stdout",
     "output_type": "stream",
     "text": [
      "Mean ROC AUC: 0.972\n"
     ]
    }
   ],
   "source": [
    "#random forest\n",
    "from sklearn.model_selection import RepeatedStratifiedKFold\n",
    "rfc = RandomForestClassifier(n_estimators=100, class_weight='balanced')\n",
    "\n",
    "cv = RepeatedStratifiedKFold(n_splits=10, n_repeats=3, random_state=1)\n",
    "\n",
    "scores = cross_val_score(rfc, X_train, y_train, scoring='roc_auc', cv=cv, n_jobs=-1)\n",
    "\n",
    "print('Mean ROC AUC: %.3f' % scores.mean())"
   ]
  },
  {
   "cell_type": "code",
   "execution_count": 374,
   "metadata": {},
   "outputs": [
    {
     "name": "stdout",
     "output_type": "stream",
     "text": [
      "Mean ROC AUC: 0.925\n"
     ]
    }
   ],
   "source": [
    "#extratrees\n",
    "etc = ExtraTreesClassifier(n_estimators=50, class_weight='balanced')\n",
    "\n",
    "cv = RepeatedStratifiedKFold(n_splits=10, n_repeats=3, random_state=1)\n",
    "\n",
    "scores = cross_val_score(etc, X_train, y_train, scoring='roc_auc', cv=cv, n_jobs=-1)\n",
    "\n",
    "print('Mean ROC AUC: %.3f' % scores.mean())"
   ]
  },
  {
   "cell_type": "code",
   "execution_count": 356,
   "metadata": {},
   "outputs": [
    {
     "name": "stdout",
     "output_type": "stream",
     "text": [
      "Collecting imbalanced-learn\n",
      "  Using cached https://files.pythonhosted.org/packages/c8/73/36a13185c2acff44d601dc6107b5347e075561a49e15ddd4e69988414c3e/imbalanced_learn-0.6.2-py3-none-any.whl\n",
      "Requirement already satisfied, skipping upgrade: numpy>=1.11 in c:\\users\\katar\\anaconda3\\envs\\buan6341_2020\\lib\\site-packages (from imbalanced-learn) (1.18.1)\n",
      "Requirement already satisfied, skipping upgrade: scipy>=0.17 in c:\\users\\katar\\anaconda3\\envs\\buan6341_2020\\lib\\site-packages (from imbalanced-learn) (1.3.0)\n",
      "Requirement already satisfied, skipping upgrade: scikit-learn>=0.22 in c:\\users\\katar\\anaconda3\\envs\\buan6341_2020\\lib\\site-packages (from imbalanced-learn) (0.22.2.post1)\n",
      "Requirement already satisfied, skipping upgrade: joblib>=0.11 in c:\\users\\katar\\anaconda3\\envs\\buan6341_2020\\lib\\site-packages (from imbalanced-learn) (0.14.1)\n",
      "Installing collected packages: imbalanced-learn\n",
      "Successfully installed imbalanced-learn-0.6.2\n",
      "Note: you may need to restart the kernel to use updated packages.\n"
     ]
    }
   ],
   "source": [
    "pip install -U imbalanced-learn"
   ]
  },
  {
   "cell_type": "code",
   "execution_count": 361,
   "metadata": {},
   "outputs": [
    {
     "name": "stdout",
     "output_type": "stream",
     "text": [
      "Mean ROC AUC: 0.982\n"
     ]
    }
   ],
   "source": [
    "#Bagging decision tree with under sampling\n",
    "from imblearn.ensemble import BalancedBaggingClassifier\n",
    "\n",
    "b_dtree = BalancedBaggingClassifier()\n",
    "\n",
    "cv = RepeatedStratifiedKFold(n_splits=10, n_repeats=3, random_state=1)\n",
    "\n",
    "scores = cross_val_score(b_dtree, X_train, y_train, scoring='roc_auc', cv=cv, n_jobs=-1)\n",
    "\n",
    "print('Mean ROC AUC: %.3f' % scores.mean())"
   ]
  },
  {
   "cell_type": "markdown",
   "metadata": {},
   "source": [
    "### Data Sampling Algorithms"
   ]
  },
  {
   "cell_type": "code",
   "execution_count": 47,
   "metadata": {},
   "outputs": [],
   "source": [
    "from imblearn.over_sampling import SMOTE\n",
    "from imblearn.pipeline import Pipeline"
   ]
  },
  {
   "cell_type": "code",
   "execution_count": 48,
   "metadata": {},
   "outputs": [
    {
     "name": "stdout",
     "output_type": "stream",
     "text": [
      "Best parameters: {'max_depth': 6}\n",
      "Best Mean cross-validation score: 0.97\n"
     ]
    }
   ],
   "source": [
    "#decisiontreee\n",
    "pipe_roc_dtree = Pipeline([('smote',SMOTE()),('dtree',DecisionTreeClassifier(max_depth=5))])\n",
    "param_roc_dtree = {'smote__k_neighbors': [1,2,3]}\n",
    "\n",
    "datagrid_dtree= GridSearchCV(dtree, param_dtree, cv=5, return_train_score = True, scoring='roc_auc')\n",
    "datagrid_dtree.fit(X_train, y_train)\n",
    "\n",
    "print(\"Best parameters: {}\".format(datagrid_dtree.best_params_))\n",
    "print(\"Best Mean cross-validation score: {:.2f}\".format(datagrid_dtree.best_score_))"
   ]
  },
  {
   "cell_type": "code",
   "execution_count": 49,
   "metadata": {},
   "outputs": [
    {
     "name": "stdout",
     "output_type": "stream",
     "text": [
      "Best parameters: {'smote__k_neighbors': 1}\n",
      "Best Mean cross-validation score: 0.84\n"
     ]
    }
   ],
   "source": [
    "#logistic regression\n",
    "pipe_roc_lg = Pipeline([('smote',SMOTE()),('lg',LogisticRegression())])\n",
    "param_roc_lg = {'smote__k_neighbors': [1,2,3]}\n",
    "\n",
    "datagrid_lg= GridSearchCV(pipe_roc_lg,param_roc_lg, cv=5, scoring='accuracy')\n",
    "datagrid_lg.fit(X_train, y_train)\n",
    "\n",
    "print(\"Best parameters: {}\".format(datagrid_lg.best_params_))\n",
    "print(\"Best Mean cross-validation score: {:.2f}\".format(datagrid_lg.best_score_))"
   ]
  },
  {
   "cell_type": "code",
   "execution_count": 50,
   "metadata": {},
   "outputs": [
    {
     "name": "stdout",
     "output_type": "stream",
     "text": [
      "Best parameters: {'n_neighbors': 24}\n",
      "Best Mean cross-validation score: 0.78\n"
     ]
    }
   ],
   "source": [
    "#knn\n",
    "pipe_roc_knn = Pipeline([('smote',SMOTE()),('knn',KNeighborsClassifier(n_neighbors=6))])\n",
    "param_roc_knn = {'smote__k_neighbors': [1,2,3,4,5]}\n",
    "\n",
    "datagrid_knn= GridSearchCV(knn, param_knn, cv=5, return_train_score=True)\n",
    "datagrid_knn.fit(X_train, y_train)\n",
    "\n",
    "print(\"Best parameters: {}\".format(datagrid_knn.best_params_))\n",
    "print(\"Best Mean cross-validation score: {:.2f}\".format(datagrid_knn.best_score_))"
   ]
  },
  {
   "cell_type": "code",
   "execution_count": 51,
   "metadata": {},
   "outputs": [
    {
     "name": "stdout",
     "output_type": "stream",
     "text": [
      "Best parameters: {'smote__k_neighbors': 4}\n",
      "Best Mean cross-validation score: 0.80\n"
     ]
    }
   ],
   "source": [
    "#svm\n",
    "pipe_roc_svm = Pipeline([('smote',SMOTE()),('svm',svm.SVC(C=10,gamma=0.1,kernel='rbf'))])\n",
    "param_roc_svm = {'smote__k_neighbors': [1,2,3,4,5]}\n",
    "\n",
    "datagrid_svm= GridSearchCV(pipe_roc_svm,param_roc_svm, cv=5, n_jobs=2, scoring='roc_auc')\n",
    "datagrid_svm.fit(X_train, y_train)\n",
    "\n",
    "print(\"Best parameters: {}\".format(datagrid_svm.best_params_))\n",
    "print(\"Best Mean cross-validation score: {:.2f}\".format(datagrid_svm.best_score_))"
   ]
  },
  {
   "cell_type": "code",
   "execution_count": 52,
   "metadata": {},
   "outputs": [
    {
     "name": "stdout",
     "output_type": "stream",
     "text": [
      "Best parameters: {'rf__max_depth': 5, 'smote__k_neighbors': 1}\n",
      "Best Mean cross-validation score: 0.94\n"
     ]
    }
   ],
   "source": [
    "#randomforest\n",
    "pipe_roc_rf = Pipeline([('smote',SMOTE()),('rf',RandomForestClassifier(n_estimators=50,criterion='gini',\n",
    "                                                                       max_features='auto'))])\n",
    "param_roc_rf = {'smote__k_neighbors': [1,2,3,4,5],\n",
    "                'rf__max_depth' : [4,5]}\n",
    "\n",
    "datagrid_rf= GridSearchCV(pipe_roc_rf,param_roc_rf, cv=5, n_jobs=2, scoring='roc_auc')\n",
    "datagrid_rf.fit(X_train, y_train)\n",
    "\n",
    "print(\"Best parameters: {}\".format(datagrid_rf.best_params_))\n",
    "print(\"Best Mean cross-validation score: {:.2f}\".format(datagrid_rf.best_score_))"
   ]
  },
  {
   "cell_type": "code",
   "execution_count": 63,
   "metadata": {},
   "outputs": [
    {
     "name": "stdout",
     "output_type": "stream",
     "text": [
      "Best parameters: {'smote__k_neighbors': 2, 'xgb__learning_rate': 0.5}\n",
      "Best Mean cross-validation score: 0.99\n"
     ]
    }
   ],
   "source": [
    "#xgb\n",
    "pipe_roc_xgb = Pipeline([('smote',SMOTE()),('xgb',XGBClassifier(random_state=42,\n",
    "                                                                            early_stopping_rounds=2,\n",
    "                                                                            n_estimators=100,\n",
    "                                                                            objective ='binary:logistic',\n",
    "                                                                            max_depth = 4,\n",
    "                                                                             ))])\n",
    "param_roc_xgb = {'smote__k_neighbors': [1,2,3,4,5],\n",
    "                 'xgb__learning_rate' : [0.1,0.5]}\n",
    "\n",
    "datagrid_xgb= GridSearchCV(pipe_roc_xgb,param_roc_xgb, cv=5, n_jobs=2, scoring='roc_auc')\n",
    "datagrid_xgb.fit(X_train, y_train)\n",
    "\n",
    "print(\"Best parameters: {}\".format(datagrid_xgb.best_params_))\n",
    "print(\"Best Mean cross-validation score: {:.2f}\".format(datagrid_xgb.best_score_))"
   ]
  },
  {
   "cell_type": "code",
   "execution_count": 64,
   "metadata": {},
   "outputs": [
    {
     "name": "stdout",
     "output_type": "stream",
     "text": [
      "Best parameters: {'smote__k_neighbors': 2}\n",
      "Best Mean cross-validation score: 0.97\n"
     ]
    }
   ],
   "source": [
    "#easy ensemble classifier\n",
    "from imblearn.ensemble import EasyEnsembleClassifier\n",
    "pipe_roc_ee = Pipeline([('smote',SMOTE()),('ee',EasyEnsembleClassifier())])\n",
    "param_roc_ee = {'smote__k_neighbors': [1,2,3,4,5]}\n",
    "\n",
    "datagrid_ee= GridSearchCV(pipe_roc_ee,param_roc_ee, cv=5, n_jobs=2, scoring='roc_auc')\n",
    "datagrid_ee.fit(X_train, y_train)\n",
    "\n",
    "print(\"Best parameters: {}\".format(datagrid_ee.best_params_))\n",
    "print(\"Best Mean cross-validation score: {:.2f}\".format(datagrid_ee.best_score_))"
   ]
  },
  {
   "cell_type": "code",
   "execution_count": 68,
   "metadata": {},
   "outputs": [],
   "source": [
    "estimators_ = [('dtree',grid_dtree.best_estimator_),\n",
    "            ('rf',datagrid_rf.best_estimator_),('gbc',gbc_grid.best_estimator_),\n",
    "            ('etc',etc_grid.best_estimator_),('xgbc',xgbc_grid.best_estimator_)]"
   ]
  },
  {
   "cell_type": "code",
   "execution_count": 70,
   "metadata": {},
   "outputs": [
    {
     "name": "stdout",
     "output_type": "stream",
     "text": [
      "Best Mean Cross Validation Score is 0.9655798150614853\n",
      "Best Mean Cross Validation params is {'final_estimator__C': 0.1, 'stack_method': 'auto'}\n",
      "Train score is 1.0\n",
      "Test score is 0.9670487106017192\n"
     ]
    }
   ],
   "source": [
    "from sklearn.ensemble import StackingClassifier\n",
    "sclf2 = StackingClassifier(estimators= estimators_\n",
    "                            , final_estimator=LogisticRegression())\n",
    "sclf2_param = {\n",
    "              'final_estimator__C' : [0.1,0.2],\n",
    "              'stack_method':['auto']\n",
    "             }\n",
    "sclf2_grid = GridSearchCV(sclf2, sclf2_param,cv=5, return_train_score=True,scoring='roc_auc' )\n",
    "sclf2_grid.fit(X_train,y_train)\n",
    "\n",
    "print(f'Best Mean Cross Validation Score is {sclf2_grid.best_score_}')\n",
    "print(f'Best Mean Cross Validation params is {sclf2_grid.best_params_}')\n",
    "print(f'Train score is {sclf2_grid.score(X_train,y_train)}')\n",
    "print(f'Test score is {sclf2_grid.score(X_test,y_test)}')"
   ]
  }
 ],
 "metadata": {
  "kernelspec": {
   "display_name": "buan6341_2020",
   "language": "python",
   "name": "buan6341_2020"
  },
  "language_info": {
   "codemirror_mode": {
    "name": "ipython",
    "version": 3
   },
   "file_extension": ".py",
   "mimetype": "text/x-python",
   "name": "python",
   "nbconvert_exporter": "python",
   "pygments_lexer": "ipython3",
   "version": "3.7.6"
  },
  "toc": {
   "base_numbering": 1,
   "nav_menu": {},
   "number_sections": true,
   "sideBar": true,
   "skip_h1_title": false,
   "title_cell": "Table of Contents",
   "title_sidebar": "Contents",
   "toc_cell": false,
   "toc_position": {},
   "toc_section_display": true,
   "toc_window_display": false
  }
 },
 "nbformat": 4,
 "nbformat_minor": 2
}
